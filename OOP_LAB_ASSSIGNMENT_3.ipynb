{
  "nbformat": 4,
  "nbformat_minor": 0,
  "metadata": {
    "colab": {
      "name": "OOP LAB ASSSIGNMENT-3.ipynb",
      "provenance": [],
      "authorship_tag": "ABX9TyM9f2WomWt+ZZoraS0fB+XV",
      "include_colab_link": true
    },
    "kernelspec": {
      "name": "python3",
      "display_name": "Python 3"
    },
    "language_info": {
      "name": "python"
    }
  },
  "cells": [
    {
      "cell_type": "markdown",
      "metadata": {
        "id": "view-in-github",
        "colab_type": "text"
      },
      "source": [
        "<a href=\"https://colab.research.google.com/github/Arjun-08/OOP-LabAssignment1/blob/main/OOP_LAB_ASSSIGNMENT_3.ipynb\" target=\"_parent\"><img src=\"https://colab.research.google.com/assets/colab-badge.svg\" alt=\"Open In Colab\"/></a>"
      ]
    },
    {
      "cell_type": "markdown",
      "metadata": {
        "id": "SCWlikFzkM14"
      },
      "source": [
        "# PROBLEM-1"
      ]
    },
    {
      "cell_type": "code",
      "metadata": {
        "colab": {
          "base_uri": "https://localhost:8080/"
        },
        "id": "qidhxhoYkSWz",
        "outputId": "559d6929-cde9-4c52-b526-b9d34589ed3e"
      },
      "source": [
        "class Student:\n",
        "  def data(self):\n",
        "    self.name = str(input(\"Enter student's name :\"))\n",
        "    self.regNo = (input(\"Enter registration number :\"))\n",
        "    self.age = int(input(\"Enter student's age :\"))\n",
        "    self.gender = str(input(\"Enter student's gender :\"))\n",
        "    self.branch = str(input(\"Enter student's branch :\"))\n",
        "    self.semester = int(input(\"Enter semester :\"))\n",
        "\n",
        "  def display(self):\n",
        "    print(f\"\\n Name: {self.name}\\n Reg. no: {(self.regNo)}\\n Age: {(self.age)}\\n Gender:{self.gender}\\n Branch: {self.branch}\\n Semester: {self.semester}\")\n",
        "\n",
        "class StudentResultInfo(Student):\n",
        "  def __init__(self, totalMarks, percentage, grade):\n",
        "    self.totalMarks = totalMarks\n",
        "    self.percentage = percentage\n",
        "    self.grade = grade\n",
        "\n",
        "  def displayData(self):\n",
        "    print(\"\\n Basic Information\")\n",
        "    self.display()\n",
        "    print(f\"\\n Student Result \\n\\n Total marks: {(self.totalMarks)}\\n Percentage: {(self.percentage)} % Grade: {self.grade}\")\n",
        "\n",
        "std1 = StudentResultInfo(625, 99, 'A')\n",
        "std1.data()\n",
        "std1.display()\n",
        "std1.displayData()"
      ],
      "execution_count": 4,
      "outputs": [
        {
          "output_type": "stream",
          "name": "stdout",
          "text": [
            "Enter student's name :sagar k\n",
            "Enter registration number :20\n",
            "Enter student's age :19\n",
            "Enter student's gender :male\n",
            "Enter student's branch :CSE\n",
            "Enter semester :3\n",
            "\n",
            " Name: sagar k\n",
            " Reg. no: 20\n",
            " Age: 19\n",
            " Gender:male\n",
            " Branch: CSE\n",
            " Semester: 3\n",
            "\n",
            " Basic Information\n",
            "\n",
            " Name: sagar k\n",
            " Reg. no: 20\n",
            " Age: 19\n",
            " Gender:male\n",
            " Branch: CSE\n",
            " Semester: 3\n",
            "\n",
            " Student Result \n",
            "\n",
            " Total marks: 625\n",
            " Percentage: 99 % Grade: A\n"
          ]
        }
      ]
    },
    {
      "cell_type": "markdown",
      "metadata": {
        "id": "jGVYLTgdkZhr"
      },
      "source": [
        "# PROBLEM-2"
      ]
    },
    {
      "cell_type": "code",
      "metadata": {
        "colab": {
          "base_uri": "https://localhost:8080/"
        },
        "id": "CoIoSE13kdQU",
        "outputId": "26a8973b-6d04-4ef2-b8b5-38fb7ad54ba0"
      },
      "source": [
        "class PDFs:\n",
        "  def __init__(self, creator, description, size):\n",
        "    self.creator = creator\n",
        "    self.description = description\n",
        "    self.size = size\n",
        "\n",
        "  def displayInfo(self):\n",
        "    print(\"Created by:\",self.creator)\n",
        "    print(\"Description:\", self.description)\n",
        "    print(\"File size (in KBs):\", self.size)\n",
        "\n",
        "  def sizeLimit(self):\n",
        "    if self.size > 256:\n",
        "      print(\"Size exceeds threshold.\\n\")\n",
        "    else:\n",
        "      print(\"Size is within the threshold.\\n\")\n",
        "\n",
        "class Pictures(PDFs):\n",
        "  def __init__(self, creator, description, size, dimension):\n",
        "    super().__init__(creator, description, size)\n",
        "    self.dimension = dimension\n",
        "\n",
        "  def displayPicInfo(self):\n",
        "    self.displayInfo()\n",
        "    print(\"Dimensions (in pixels):\", self.dimension)\n",
        "\n",
        "  def dimensionLimit(self):\n",
        "    if self.dimension>2000:\n",
        "      print(\" high dimension!\\n\")\n",
        "    else:\n",
        "      print(\" dimensions are fine.\\n\")\n",
        "      \n",
        "pdf1 = PDFs(\"ABC\", \"DEFGH\", 15.5)\n",
        "pdf1.displayInfo()\n",
        "pdf1.sizeLimit()\n",
        "print()\n",
        "img = Pictures(\"HIJ\", \"KLMN\", 56789, 1234)\n",
        "img.displayPicInfo()\n",
        "img.dimensionLimit()"
      ],
      "execution_count": 5,
      "outputs": [
        {
          "output_type": "stream",
          "name": "stdout",
          "text": [
            "Created by: ABC\n",
            "Description: DEFGH\n",
            "File size (in KBs): 15.5\n",
            "Size is within the threshold.\n",
            "\n",
            "\n",
            "Created by: HIJ\n",
            "Description: KLMN\n",
            "File size (in KBs): 56789\n",
            "Dimensions (in pixels): 1234\n",
            " dimensions are fine.\n",
            "\n"
          ]
        }
      ]
    },
    {
      "cell_type": "markdown",
      "metadata": {
        "id": "UZNImrIwkfQN"
      },
      "source": [
        "# PROBLEM-3"
      ]
    },
    {
      "cell_type": "code",
      "metadata": {
        "colab": {
          "base_uri": "https://localhost:8080/"
        },
        "id": "yyFmcwNIkjDk",
        "outputId": "f4c75f9d-6060-48ed-ac97-c30779d4ede3"
      },
      "source": [
        "class Vehicle:\n",
        "    def __init__(self, name, mileage, capacity):\n",
        "        self.name = name\n",
        "        self.mileage = mileage\n",
        "        self.capacity = capacity\n",
        "\n",
        "    def cap(self):\n",
        "        return self.capacity * 100\n",
        "\n",
        "class Bus(Vehicle):\n",
        "    def __init__(self, name, mileage, capacity=50):\n",
        "        Vehicle.__init__(self, name, mileage, capacity)\n",
        "        self.finalAmount = Vehicle.cap(self) * 1.1\n",
        "\n",
        "    def busFare(self):\n",
        "        print(f\"Total Fare : {self.finalAmount}\")\n",
        "\n",
        "car1 = Vehicle(\"AUDI\", 25, 7)\n",
        "print(f\"Car Fare : {car1.cap()}\")\n",
        "bus1 = Bus(\"VOLVO\", 15, 50)\n",
        "bus1.busFare()"
      ],
      "execution_count": 6,
      "outputs": [
        {
          "output_type": "stream",
          "name": "stdout",
          "text": [
            "Car Fare : 700\n",
            "Total Fare : 5500.0\n"
          ]
        }
      ]
    }
  ]
}